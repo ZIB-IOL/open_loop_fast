{
 "cells": [
  {
   "cell_type": "code",
   "execution_count": 38,
   "metadata": {
    "collapsed": true
   },
   "outputs": [
    {
     "name": "stdout",
     "output_type": "stream",
     "text": [
      "2.5247494090137583\n",
      "1.524749409013758\n",
      "[0.47492049 0.95075202]\n",
      "[[0.47492049]\n",
      " [0.95075202]]\n"
     ]
    }
   ],
   "source": [
    "import autograd.numpy as np\n",
    "from autograd import grad\n",
    "from all_functions.objective_function import sigmoid\n",
    "\n",
    "def f(x):\n",
    "    return np.linalg.norm(x)**2\n",
    "# f = lambda z: np.linalg.norm(y-np.dot(A, z[:n]-z[n:]), 2)**2\n",
    "# f = lambda z: np.linalg.norm(y-np.dot(A, z[:n]-z[n:]), 2)**2\n",
    "grad_f = grad(f)\n",
    "\n",
    "x = np.array([[1.0],\n",
    "              [1.0]])\n",
    "grad_f(x)\n",
    "# print(grad_f(np.array([[1],\n",
    "#                       [2]])))\n",
    "\n",
    "A = np.array([[1, 2],\n",
    "              [3, 4]])\n",
    "b = np.array([[-1],\n",
    "              [+1]]).flatten()\n",
    "\n",
    "\n",
    "def chat_gpt(x):\n",
    "    logits = (A.dot(x)) * b\n",
    "    return float(np.mean(np.logaddexp(0, -logits)))\n",
    "\n",
    "def cyrille(x):\n",
    "    return np.mean(np.log(1+np.exp(-b.flatten()*(np.dot(A, x).flatten()))))\n",
    "\n",
    "\n",
    "def chat_gpt_grad(x: np.ndarray):\n",
    "    \"\"\"Evaluates the gradient of f at x.\"\"\"\n",
    "    logits = A.dot(x) * b.flatten()\n",
    "    probs = sigmoid(-logits)\n",
    "    grad = A.T.dot(-b * probs) / A.shape[0]\n",
    "    return grad\n",
    "\n",
    "def cyrille_grad(x):\n",
    "    grad_c = grad(cyrille)\n",
    "    return grad_c(x)\n",
    "\n",
    "\n",
    "print(chat_gpt(x))\n",
    "print(cyrille(x))\n",
    "print(chat_gpt_grad(x.flatten()))\n",
    "print(cyrille_grad(x))\n"
   ]
  },
  {
   "cell_type": "code",
   "execution_count": 39,
   "outputs": [
    {
     "ename": "NameError",
     "evalue": "name 'self' is not defined",
     "output_type": "error",
     "traceback": [
      "\u001B[0;31m---------------------------------------------------------------------------\u001B[0m",
      "\u001B[0;31mNameError\u001B[0m                                 Traceback (most recent call last)",
      "\u001B[0;32m<ipython-input-39-5e3d52179dc8>\u001B[0m in \u001B[0;36m<module>\u001B[0;34m\u001B[0m\n\u001B[0;32m----> 1\u001B[0;31m \u001B[0mlogits\u001B[0m \u001B[0;34m=\u001B[0m \u001B[0mself\u001B[0m\u001B[0;34m.\u001B[0m\u001B[0mA\u001B[0m\u001B[0;34m.\u001B[0m\u001B[0mdot\u001B[0m\u001B[0;34m(\u001B[0m\u001B[0mx\u001B[0m\u001B[0;34m)\u001B[0m \u001B[0;34m*\u001B[0m \u001B[0mself\u001B[0m\u001B[0;34m.\u001B[0m\u001B[0mb\u001B[0m\u001B[0;34m\u001B[0m\u001B[0;34m\u001B[0m\u001B[0m\n\u001B[0m\u001B[1;32m      2\u001B[0m \u001B[0;32mreturn\u001B[0m \u001B[0mfloat\u001B[0m\u001B[0;34m(\u001B[0m\u001B[0mnp\u001B[0m\u001B[0;34m.\u001B[0m\u001B[0mmean\u001B[0m\u001B[0;34m(\u001B[0m\u001B[0mnp\u001B[0m\u001B[0;34m.\u001B[0m\u001B[0mlogaddexp\u001B[0m\u001B[0;34m(\u001B[0m\u001B[0;36m0\u001B[0m\u001B[0;34m,\u001B[0m \u001B[0;34m-\u001B[0m\u001B[0mlogits\u001B[0m\u001B[0;34m)\u001B[0m\u001B[0;34m)\u001B[0m\u001B[0;34m)\u001B[0m\u001B[0;34m\u001B[0m\u001B[0;34m\u001B[0m\u001B[0m\n\u001B[1;32m      3\u001B[0m \u001B[0;34m\u001B[0m\u001B[0m\n\u001B[1;32m      4\u001B[0m \u001B[0;34m\u001B[0m\u001B[0m\n\u001B[1;32m      5\u001B[0m \u001B[0;34m\u001B[0m\u001B[0m\n",
      "\u001B[0;31mNameError\u001B[0m: name 'self' is not defined"
     ]
    }
   ],
   "source": [
    "logits = self.A.dot(x) * self.b\n",
    "return float(np.mean(np.logaddexp(0, -logits)))\n",
    "\n",
    "\n"
   ],
   "metadata": {
    "collapsed": false,
    "pycharm": {
     "name": "#%%\n"
    }
   }
  },
  {
   "cell_type": "code",
   "execution_count": 39,
   "outputs": [],
   "source": [],
   "metadata": {
    "collapsed": false,
    "pycharm": {
     "name": "#%%\n"
    }
   }
  },
  {
   "cell_type": "code",
   "execution_count": 46,
   "outputs": [],
   "source": [
    "import urllib.request\n",
    "\n",
    "def load_gisette_data():\n",
    "\n",
    "    # Load the data files into numpy arrays\n",
    "    X = np.loadtxt('https://archive.ics.uci.edu/ml/machine-learning-databases/gisette/GISETTE/gisette_train.data')\n",
    "    y = np.loadtxt('https://archive.ics.uci.edu/ml/machine-learning-databases/gisette/GISETTE/gisette_train.labels')\n",
    "\n",
    "    return X, y\n",
    "X,y = load_gisette_data()"
   ],
   "metadata": {
    "collapsed": false,
    "pycharm": {
     "name": "#%%\n"
    }
   }
  },
  {
   "cell_type": "code",
   "execution_count": 47,
   "outputs": [
    {
     "name": "stdout",
     "output_type": "stream",
     "text": [
      "[[550.   0. 495. ...   0.   0. 983.]\n",
      " [  0.   0.   0. ...   0.   0.   0.]\n",
      " [  0.   0.   0. ...   0.   0.   0.]\n",
      " ...\n",
      " [  0.   0.   0. ...   0.   0.   0.]\n",
      " [  0.   0.   0. ...   0.   0.   0.]\n",
      " [  0.   0. 991. ...   0.   0. 991.]] [ 1. -1.  1. ... -1. -1. -1.]\n"
     ]
    }
   ],
   "source": [
    "print(X, y)\n",
    "\n"
   ],
   "metadata": {
    "collapsed": false,
    "pycharm": {
     "name": "#%%\n"
    }
   }
  },
  {
   "cell_type": "code",
   "execution_count": 48,
   "outputs": [
    {
     "ename": "NameError",
     "evalue": "name 'nan' is not defined",
     "output_type": "error",
     "traceback": [
      "\u001B[0;31m---------------------------------------------------------------------------\u001B[0m",
      "\u001B[0;31mNameError\u001B[0m                                 Traceback (most recent call last)",
      "\u001B[0;32m<ipython-input-48-20fa54d8627e>\u001B[0m in \u001B[0;36m<module>\u001B[0;34m\u001B[0m\n\u001B[0;32m----> 1\u001B[0;31m \u001B[0mnp\u001B[0m\u001B[0;34m.\u001B[0m\u001B[0mnan_to_num\u001B[0m\u001B[0;34m(\u001B[0m\u001B[0mnan\u001B[0m\u001B[0;34m)\u001B[0m\u001B[0;34m\u001B[0m\u001B[0;34m\u001B[0m\u001B[0m\n\u001B[0m",
      "\u001B[0;31mNameError\u001B[0m: name 'nan' is not defined"
     ]
    }
   ],
   "source": [
    "\n",
    "\n",
    "np.nan_to_num(nan)"
   ],
   "metadata": {
    "collapsed": false,
    "pycharm": {
     "name": "#%%\n"
    }
   }
  },
  {
   "cell_type": "code",
   "execution_count": null,
   "outputs": [],
   "source": [
    "\n"
   ],
   "metadata": {
    "collapsed": false,
    "pycharm": {
     "name": "#%%\n"
    }
   }
  }
 ],
 "metadata": {
  "kernelspec": {
   "display_name": "Python 3",
   "language": "python",
   "name": "python3"
  },
  "language_info": {
   "codemirror_mode": {
    "name": "ipython",
    "version": 2
   },
   "file_extension": ".py",
   "mimetype": "text/x-python",
   "name": "python",
   "nbconvert_exporter": "python",
   "pygments_lexer": "ipython2",
   "version": "2.7.6"
  }
 },
 "nbformat": 4,
 "nbformat_minor": 0
}